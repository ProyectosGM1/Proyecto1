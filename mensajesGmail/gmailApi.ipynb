{
 "cells": [
  {
   "cell_type": "code",
   "execution_count": 3,
   "metadata": {},
   "outputs": [
    {
     "ename": "SyntaxError",
     "evalue": "invalid syntax (3120868670.py, line 2)",
     "output_type": "error",
     "traceback": [
      "  \u001b[36mCell\u001b[39m\u001b[36m \u001b[39m\u001b[32mIn[3]\u001b[39m\u001b[32m, line 2\u001b[39m\n\u001b[31m    \u001b[39m\u001b[31mpip install --upgrade google-api-python-client google-auth-httplib2 google-auth-oauthlib\u001b[39m\n        ^\n\u001b[31mSyntaxError\u001b[39m\u001b[31m:\u001b[39m invalid syntax\n"
     ]
    }
   ],
   "source": [
    "#imports\n",
    "pip install --upgrade google-api-python-client google-auth-httplib2 google-auth-oauthlib\n"
   ]
  },
  {
   "cell_type": "code",
   "execution_count": null,
   "metadata": {},
   "outputs": [],
   "source": [
    "#claves"
   ]
  },
  {
   "cell_type": "code",
   "execution_count": 11,
   "metadata": {},
   "outputs": [
    {
     "name": "stdout",
     "output_type": "stream",
     "text": [
      "Please visit this URL to authorize this application: https://accounts.google.com/o/oauth2/auth?response_type=code&client_id=176816052410-qqmi7d448pic80ns0b51m06gq2u0m073.apps.googleusercontent.com&redirect_uri=http%3A%2F%2Flocalhost%3A49358%2F&scope=https%3A%2F%2Fwww.googleapis.com%2Fauth%2Fgmail.send&state=qlD9pILEGV0wDaeQdWU47jZK0W2aOy&access_type=offline\n",
      "An error occurred: <HttpError 403 when requesting https://gmail.googleapis.com/gmail/v1/users/me/labels?alt=json returned \"Request had insufficient authentication scopes.\". Details: \"[{'message': 'Insufficient Permission', 'domain': 'global', 'reason': 'insufficientPermissions'}]\">\n"
     ]
    }
   ],
   "source": [
    "#codigo \n",
    "import os.path\n",
    "\n",
    "from google.auth.transport.requests import Request\n",
    "from google.oauth2.credentials import Credentials\n",
    "from google_auth_oauthlib.flow import InstalledAppFlow\n",
    "from googleapiclient.discovery import build\n",
    "from googleapiclient.errors import HttpError\n",
    "\n",
    "# If modifying these scopes, delete the file token.json.\n",
    "SCOPES = [\"https://www.googleapis.com/auth/gmail.send\"]\n",
    "\n",
    "\n",
    "def main():\n",
    "  \"\"\"Shows basic usage of the Gmail API.\n",
    "  Lists the user's Gmail labels.\n",
    "  \"\"\"\n",
    "  creds = None\n",
    "  # The file token.json stores the user's access and refresh tokens, and is\n",
    "  # created automatically when the authorization flow completes for the first\n",
    "  # time.\n",
    "  if os.path.exists(\"token.json\"):\n",
    "    creds = Credentials.from_authorized_user_file(\"token.json\", SCOPES)\n",
    "  # If there are no (valid) credentials available, let the user log in.\n",
    "  if not creds or not creds.valid:\n",
    "    if creds and creds.expired and creds.refresh_token:\n",
    "      creds.refresh(Request())\n",
    "    else:\n",
    "      flow = InstalledAppFlow.from_client_secrets_file(\n",
    "          \"credentials.json\", SCOPES\n",
    "      )\n",
    "      creds = flow.run_local_server(port=0)\n",
    "    # Save the credentials for the next run\n",
    "    with open(\"token.json\", \"w\") as token:\n",
    "      token.write(creds.to_json())\n",
    "\n",
    "  try:\n",
    "    # Call the Gmail API\n",
    "    service = build(\"gmail\", \"v1\", credentials=creds)\n",
    "    results = service.users().labels().list(userId=\"me\").execute()\n",
    "    labels = results.get(\"labels\", [])\n",
    "\n",
    "    if not labels:\n",
    "      print(\"No labels found.\")\n",
    "      return\n",
    "    print(\"Labels:\")\n",
    "    for label in labels:\n",
    "      print(label[\"name\"])\n",
    "\n",
    "  except HttpError as error:\n",
    "    # TODO(developer) - Handle errors from gmail API.\n",
    "    print(f\"An error occurred: {error}\")\n",
    "\n",
    "\n",
    "\n",
    "\n",
    "if __name__ == \"__main__\":\n",
    "  main()"
   ]
  },
  {
   "cell_type": "code",
   "execution_count": 13,
   "metadata": {},
   "outputs": [
    {
     "name": "stdout",
     "output_type": "stream",
     "text": [
      "📩 Correo enviado con ID: 1959d35e1101e901\n"
     ]
    }
   ],
   "source": [
    "import os.path\n",
    "import base64\n",
    "import datetime\n",
    "from email.mime.text import MIMEText\n",
    "\n",
    "from google.auth.transport.requests import Request\n",
    "from google.oauth2.credentials import Credentials\n",
    "from google_auth_oauthlib.flow import InstalledAppFlow\n",
    "from googleapiclient.discovery import build\n",
    "from googleapiclient.errors import HttpError\n",
    "\n",
    "\n",
    "SCOPES = [\"https://www.googleapis.com/auth/gmail.send\"]\n",
    "\n",
    "def get_credentials():\n",
    "    \"\"\"Autentica con OAuth2 y devuelve las credenciales.\"\"\"\n",
    "    creds = None\n",
    "    if os.path.exists(\"token.json\"):\n",
    "        creds = Credentials.from_authorized_user_file(\"token.json\", SCOPES)\n",
    "    if not creds or not creds.valid:\n",
    "        if creds and creds.expired and creds.refresh_token:\n",
    "            creds.refresh(Request())\n",
    "        else:\n",
    "            flow = InstalledAppFlow.from_client_secrets_file(\n",
    "                \"credentials.json\", SCOPES\n",
    "            )\n",
    "            creds = flow.run_local_server(port=0)\n",
    "        with open(\"token.json\", \"w\") as token:\n",
    "            token.write(creds.to_json())\n",
    "    return creds\n",
    "\n",
    "def send_email():\n",
    "    \"\"\"Envía un correo usando la API de Gmail.\"\"\"\n",
    "    try:\n",
    "        # Autenticación\n",
    "        creds = get_credentials()\n",
    "        service = build(\"gmail\", \"v1\", credentials=creds)\n",
    "\n",
    "        # Configurar destinatario y mensaje\n",
    "        sender_email = \"cadenaseficientesteam@gmail.com\"  # Cambia esto por tu correo\n",
    "        receiver_email = \"luis.l.g.mejia327@gmail.com\"  # Cambia esto por el destinatario\n",
    "        subject = \"Prueba 1 de Gmail\"\n",
    "        current_time = datetime.datetime.now().strftime(\"%Y-%m-%d %H:%M:%S\")\n",
    "        body = f\"Este es un mensaje de prueba usando Gmail {current_time}\"\n",
    "\n",
    "        # Crear el mensaje MIME\n",
    "        message = MIMEText(body)\n",
    "        message[\"to\"] = receiver_email\n",
    "        message[\"from\"] = sender_email\n",
    "        message[\"subject\"] = subject\n",
    "\n",
    "        # Codificar el mensaje en base64\n",
    "        raw_message = base64.urlsafe_b64encode(message.as_bytes()).decode()\n",
    "\n",
    "        # Enviar el correo\n",
    "        message = {\"raw\": raw_message}\n",
    "        sent_message = service.users().messages().send(userId=\"me\", body=message).execute()\n",
    "\n",
    "        print(f\"📩 Correo enviado con ID: {sent_message['id']}\")\n",
    "\n",
    "    except HttpError as error:\n",
    "        print(f\"❌ Error al enviar el correo: {error}\")\n",
    "\n",
    "if __name__ == \"__main__\":\n",
    "    send_email()\n",
    "\n"
   ]
  }
 ],
 "metadata": {
  "kernelspec": {
   "display_name": "Python 3",
   "language": "python",
   "name": "python3"
  },
  "language_info": {
   "codemirror_mode": {
    "name": "ipython",
    "version": 3
   },
   "file_extension": ".py",
   "mimetype": "text/x-python",
   "name": "python",
   "nbconvert_exporter": "python",
   "pygments_lexer": "ipython3",
   "version": "3.12.0"
  }
 },
 "nbformat": 4,
 "nbformat_minor": 2
}
